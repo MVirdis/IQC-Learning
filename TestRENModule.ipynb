{
 "cells": [
  {
   "cell_type": "markdown",
   "id": "7033725c-f6cd-4e9c-b0dd-ec2a104f3b3a",
   "metadata": {},
   "source": [
    "Import custom REN module"
   ]
  },
  {
   "cell_type": "code",
   "execution_count": 1,
   "id": "bc8f055a-d2f1-4557-bce0-bd2d0758cc1d",
   "metadata": {},
   "outputs": [],
   "source": [
    "import torch\n",
    "from models.REN import REN, t"
   ]
  },
  {
   "cell_type": "markdown",
   "id": "ab1bb510-c4ab-4c2b-ab4d-c77114dcb4ac",
   "metadata": {},
   "source": [
    "In order to be able to exclude errors due to numerical precision we use double (Float64) tensors"
   ]
  },
  {
   "cell_type": "code",
   "execution_count": 2,
   "id": "cda6f535-7556-41e6-a43f-a9defa7460fa",
   "metadata": {},
   "outputs": [],
   "source": [
    "torch.set_default_dtype(torch.double)"
   ]
  },
  {
   "cell_type": "markdown",
   "id": "beb05545-7600-4973-92bf-9ea5ae804914",
   "metadata": {},
   "source": [
    "Keep a small network"
   ]
  },
  {
   "cell_type": "code",
   "execution_count": 3,
   "id": "af85c4c0-4368-48b0-b1aa-e3124c468234",
   "metadata": {},
   "outputs": [],
   "source": [
    "n_x = 1\n",
    "n_units = 1\n",
    "n_u = 1\n",
    "n_y = 1"
   ]
  },
  {
   "cell_type": "markdown",
   "id": "f3c94266-1c63-4981-92a0-ec6eafc84c37",
   "metadata": {},
   "source": [
    "Define a simple multiplier"
   ]
  },
  {
   "cell_type": "code",
   "execution_count": 4,
   "id": "4063ba5b-e9fd-4d5d-a11a-4593ff55bdb7",
   "metadata": {},
   "outputs": [
    {
     "name": "stdout",
     "output_type": "stream",
     "text": [
      "The Multiplier:\n",
      "[[-1.  0.]\n",
      " [ 0.  1.]]\n"
     ]
    }
   ],
   "source": [
    "Q = -torch.eye(n_y)\n",
    "S = torch.zeros(n_y,n_u)\n",
    "R = torch.eye(n_u)\n",
    "PI = torch.cat((\n",
    "        torch.cat((Q,S),dim=1),\n",
    "        torch.cat((t(S),R),dim=1)\n",
    "    ), dim=0)\n",
    "print(\"The Multiplier:\")\n",
    "print(PI.detach().numpy())"
   ]
  },
  {
   "cell_type": "markdown",
   "id": "dc41a9d6-056b-4d8c-b4bf-0bcb1b4d85ef",
   "metadata": {},
   "source": [
    "Make one random SISO test, no intial state $x_0 = 0$, no bias $b = 0$"
   ]
  },
  {
   "cell_type": "code",
   "execution_count": 5,
   "id": "d5b60658-2443-46c4-84f0-d89fcf21a896",
   "metadata": {},
   "outputs": [],
   "source": [
    "ren = REN(n_x=n_x, n_y=n_y, n_u=n_u, n_units=n_units, Q=Q, S=S, R=R)"
   ]
  },
  {
   "cell_type": "code",
   "execution_count": 6,
   "id": "ad3279e8-074d-4fe2-bb03-cbf6fe32075c",
   "metadata": {},
   "outputs": [],
   "source": [
    "u = torch.randn(1,1,1)"
   ]
  },
  {
   "cell_type": "code",
   "execution_count": 7,
   "id": "215421f4-c504-451d-b9d9-fc730214dd21",
   "metadata": {},
   "outputs": [],
   "source": [
    "y = ren(u)"
   ]
  },
  {
   "cell_type": "markdown",
   "id": "88998fdf-02eb-499c-a08d-ed056c6a3401",
   "metadata": {},
   "source": [
    "Verify an IQC given a batch of inputs and outputs"
   ]
  },
  {
   "cell_type": "code",
   "execution_count": 8,
   "id": "604cb235-222e-4a9a-b24d-346f3957d0a7",
   "metadata": {},
   "outputs": [
    {
     "name": "stdout",
     "output_type": "stream",
     "text": [
      "[[[0.09150375]\n",
      "  [0.45372342]]]\n"
     ]
    }
   ],
   "source": [
    "v = torch.cat((y,u), dim=1)\n",
    "print(v.detach().numpy())"
   ]
  },
  {
   "cell_type": "code",
   "execution_count": 9,
   "id": "0f941a1d-1514-4776-a306-0e1c48bdb64c",
   "metadata": {},
   "outputs": [
    {
     "name": "stdout",
     "output_type": "stream",
     "text": [
      "[[[0.197492]]]\n"
     ]
    }
   ],
   "source": [
    "prod = torch.matmul(torch.matmul(t(v), PI), v)\n",
    "print(prod.detach().numpy())"
   ]
  },
  {
   "cell_type": "code",
   "execution_count": 10,
   "id": "bbed4ddd-4801-4674-a363-893259259095",
   "metadata": {},
   "outputs": [],
   "source": [
    "def checkIQC(y,u,Q,S,R):\n",
    "    PI = torch.cat((\n",
    "        torch.cat((Q,S),dim=1),\n",
    "        torch.cat((t(S),R),dim=1)\n",
    "    ), dim=0)\n",
    "    v = torch.cat((y,u), dim=1)\n",
    "    prod = torch.matmul(torch.matmul(t(v), PI), v)\n",
    "    return torch.all(prod >= 0).item()"
   ]
  },
  {
   "cell_type": "markdown",
   "id": "8e9d6ef5-aa19-482d-999c-93360284815c",
   "metadata": {},
   "source": [
    "Use the built-in function to check the LMI $H(\\theta) \\succ 0$"
   ]
  },
  {
   "cell_type": "code",
   "execution_count": 11,
   "id": "e70587bc-028e-488b-9816-0797531a54ed",
   "metadata": {},
   "outputs": [
    {
     "name": "stdout",
     "output_type": "stream",
     "text": [
      "Matrix H\n",
      "[[ 4.35491143 -2.98325144 -2.34371653]\n",
      " [-2.98325144  3.87178169  1.62996617]\n",
      " [-2.34371653  1.62996617  3.48239643]]\n",
      "\n",
      "Eigenvalues:\n",
      "[8.65767909+0.j 0.99126912+0.j 2.06014136+0.j]\n"
     ]
    }
   ],
   "source": [
    "print(\"Matrix H\")\n",
    "print(ren.H.detach().numpy())\n",
    "print(\"\\nEigenvalues:\")\n",
    "print(torch.linalg.eigvals(ren.H).detach().numpy())"
   ]
  },
  {
   "cell_type": "code",
   "execution_count": 12,
   "id": "c458f26b-2f7c-4e73-9318-ffe30680058c",
   "metadata": {},
   "outputs": [
    {
     "data": {
      "text/plain": [
       "True"
      ]
     },
     "execution_count": 12,
     "metadata": {},
     "output_type": "execute_result"
    }
   ],
   "source": [
    "ren.checkLMI()"
   ]
  },
  {
   "cell_type": "markdown",
   "id": "76d0fb34-bf80-4273-a9b3-b060d50aa83b",
   "metadata": {},
   "source": [
    "**SOLVED!**: noticed that for small inputs, e.g. $u=10^{-2}$, the IQC is not verified. Need more understanding"
   ]
  },
  {
   "cell_type": "markdown",
   "id": "cdc8d9e8-5a37-4fe4-85e9-44ad51ae04b8",
   "metadata": {},
   "source": [
    "Try to randomly pick RENs and due the test"
   ]
  },
  {
   "cell_type": "code",
   "execution_count": 13,
   "id": "3dfcc1ce-fb67-4f58-82cd-71e60d373ab0",
   "metadata": {},
   "outputs": [],
   "source": [
    "with torch.no_grad():\n",
    "    for iTest in range(10):\n",
    "        ren = REN(n_x=n_x, n_y=n_y, n_u=n_u, n_units=n_units, Q=Q, S=S, R=R)\n",
    "        u2 = torch.tensor([[[1e-2]]])\n",
    "        y2 = ren(u2)\n",
    "        if not checkIQC(y2,u2,Q,S,R):\n",
    "            print(\"IQC not verified\")"
   ]
  },
  {
   "cell_type": "markdown",
   "id": "928ea910-07e3-48fb-87d0-8d5eedca2df1",
   "metadata": {},
   "source": [
    "Work out one REN"
   ]
  },
  {
   "cell_type": "code",
   "execution_count": 14,
   "id": "e3f67c73-53aa-4bdb-9759-85620820b2b6",
   "metadata": {},
   "outputs": [
    {
     "data": {
      "text/plain": [
       "True"
      ]
     },
     "execution_count": 14,
     "metadata": {},
     "output_type": "execute_result"
    }
   ],
   "source": [
    "ren = REN(n_x=n_x, n_y=n_y, n_u=n_u, n_units=n_units, Q=Q, S=S, R=R)\n",
    "u2 = torch.tensor([[[1e-2]]])\n",
    "y2 = ren(u2)\n",
    "checkIQC(y2,u2,Q,S,R)"
   ]
  },
  {
   "cell_type": "markdown",
   "id": "1fa5976c-f1a0-4f7e-926c-e62cedb81fdd",
   "metadata": {},
   "source": [
    "For this simple example we can work out the output \"manually\" as $y = D_{21}\\,\\sigma(\\Lambda^{-1}\\, D_{12}\\,u)$"
   ]
  },
  {
   "cell_type": "code",
   "execution_count": 15,
   "id": "b189bca7-0f6c-4103-a42c-cfd892405eba",
   "metadata": {},
   "outputs": [
    {
     "data": {
      "text/plain": [
       "tensor([[[-0.5336]]], grad_fn=<TransposeBackward0>)"
      ]
     },
     "execution_count": 15,
     "metadata": {},
     "output_type": "execute_result"
    }
   ],
   "source": [
    "torch.matmul(ren.D_21, torch.sigmoid(1/ren.Lambda[0,0]*torch.matmul(ren.D_12, u2)))"
   ]
  },
  {
   "cell_type": "markdown",
   "id": "9dec70d1-cf18-4f6b-bd3f-25d0fed5c17a",
   "metadata": {},
   "source": [
    "$D_{21}$ and $D_{12}$ are free matrices. Whereas $\\Lambda$ is not."
   ]
  },
  {
   "cell_type": "code",
   "execution_count": 16,
   "id": "5f282deb-2ecf-4936-9ad0-b78006ca45fb",
   "metadata": {},
   "outputs": [],
   "source": [
    "H_22 = ren.H[ren.n_x:ren.n_x+ren.n_units, ren.n_x:ren.n_x + ren.n_units]"
   ]
  },
  {
   "cell_type": "code",
   "execution_count": 17,
   "id": "4c8bc942-a7db-429b-8b61-dad4ddd0bc3b",
   "metadata": {},
   "outputs": [
    {
     "data": {
      "text/plain": [
       "tensor([[1.5096]], grad_fn=<MulBackward0>)"
      ]
     },
     "execution_count": 17,
     "metadata": {},
     "output_type": "execute_result"
    }
   ],
   "source": [
    "Lambda = 0.5*torch.diag(torch.diag(H_22))\n",
    "Lambda"
   ]
  },
  {
   "cell_type": "code",
   "execution_count": 18,
   "id": "e09d29ca-cae4-4b33-8557-e59d44896465",
   "metadata": {},
   "outputs": [
    {
     "data": {
      "text/plain": [
       "tensor([[1.5096]], grad_fn=<MulBackward0>)"
      ]
     },
     "execution_count": 18,
     "metadata": {},
     "output_type": "execute_result"
    }
   ],
   "source": [
    "ren.Lambda"
   ]
  },
  {
   "cell_type": "code",
   "execution_count": 19,
   "id": "64a68b06-a29f-4004-ac5d-da06783d8f3e",
   "metadata": {},
   "outputs": [
    {
     "data": {
      "text/plain": [
       "tensor([[[-0.0013]]], grad_fn=<AddBackward0>)"
      ]
     },
     "execution_count": 19,
     "metadata": {},
     "output_type": "execute_result"
    }
   ],
   "source": [
    "y2"
   ]
  },
  {
   "cell_type": "code",
   "execution_count": 20,
   "id": "9ec2d4eb-d61d-4c4b-8273-d71225ef7d24",
   "metadata": {},
   "outputs": [
    {
     "data": {
      "text/plain": [
       "tensor([[0.],\n",
       "        [0.],\n",
       "        [0.]])"
      ]
     },
     "execution_count": 20,
     "metadata": {},
     "output_type": "execute_result"
    }
   ],
   "source": [
    "ren.b"
   ]
  },
  {
   "cell_type": "code",
   "execution_count": 21,
   "id": "4a5af347-6188-4859-bfc7-abb6f85e335d",
   "metadata": {},
   "outputs": [
    {
     "data": {
      "text/plain": [
       "tensor([[11.2621,  3.0948, -0.3593],\n",
       "        [ 3.0948,  3.0192, -1.2736],\n",
       "        [-0.3593, -1.2736,  2.2147]], grad_fn=<SubBackward0>)"
      ]
     },
     "execution_count": 21,
     "metadata": {},
     "output_type": "execute_result"
    }
   ],
   "source": [
    "ren.H"
   ]
  },
  {
   "cell_type": "code",
   "execution_count": 22,
   "id": "16b24c04-f3fe-454f-8fb1-0b20ad55cf50",
   "metadata": {},
   "outputs": [],
   "source": [
    "# Repeat test for many pairs\n",
    "with torch.no_grad():\n",
    "    for iTest in range(1000):\n",
    "        u = torch.randn(1,1,1)\n",
    "        y = ren(u)\n",
    "        lmiCheck = ren.checkLMI()\n",
    "        IQCCheck = checkIQC(y,u,Q,S,R)\n",
    "        if not lmiCheck:\n",
    "            print(\"LMI not satisfied\")\n",
    "        if not IQCCheck:\n",
    "            print(\"IQC not satisfied\")"
   ]
  }
 ],
 "metadata": {
  "kernelspec": {
   "display_name": "Python 3 (ipykernel)",
   "language": "python",
   "name": "python3"
  },
  "language_info": {
   "codemirror_mode": {
    "name": "ipython",
    "version": 3
   },
   "file_extension": ".py",
   "mimetype": "text/x-python",
   "name": "python",
   "nbconvert_exporter": "python",
   "pygments_lexer": "ipython3",
   "version": "3.8.18"
  }
 },
 "nbformat": 4,
 "nbformat_minor": 5
}
